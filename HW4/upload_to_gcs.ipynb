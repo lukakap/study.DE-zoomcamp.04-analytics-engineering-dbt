{
 "cells": [
  {
   "cell_type": "code",
   "execution_count": 1,
   "id": "2ff22dad-7550-4d70-8599-fcab09d0d733",
   "metadata": {},
   "outputs": [],
   "source": [
    "import pandas as pd\n",
    "import pyarrow as pa\n",
    "import pyarrow.parquet as pq\n",
    "import pyarrow.fs as pafs\n",
    "import requests\n",
    "import io\n",
    "import gzip\n",
    "import os"
   ]
  },
  {
   "cell_type": "code",
   "execution_count": 7,
   "id": "59080575-1704-43ce-9dd7-f15a9fbe3d15",
   "metadata": {
    "tags": []
   },
   "outputs": [],
   "source": [
    "os.environ['GOOGLE_APPLICATION_CREDENTIALS'] = \"C:/Users/Luka/Desktop/DESK/Studying/DE-zoomcamp/04-analytics-engineering-dbt/HW4/angular-sign-demo-405419-92acaf7265b7.json\"\n",
    "project_id = 'angular-sign-demo-405419'\n",
    "bucket_name = 'de-zoomcamp-hw-3'"
   ]
  },
  {
   "cell_type": "code",
   "execution_count": 8,
   "id": "eb8340ed-e94c-4693-9eb6-b6afc2fb1984",
   "metadata": {
    "tags": []
   },
   "outputs": [],
   "source": [
    "def csv_url_to_parquet_gcs(url, destination_blob_name):\n",
    "    \"\"\"Converts a CSV file from a URL to Parquet and uploads it directly to GCS using PyArrow.\"\"\"\n",
    "    \n",
    "    taxi_dtypes = {\n",
    "        'VendorID': 'Int64',\n",
    "        'store_and_fwd_flag': 'str',\n",
    "        'RatecodeID': 'Int64',\n",
    "        'PULocationID': 'Int64',\n",
    "        'DOLocationID': 'Int64',\n",
    "        'passenger_count': 'Int64',\n",
    "        'trip_distance': 'float64',\n",
    "        'fare_amount': 'float64',\n",
    "        'extra': 'float64',\n",
    "        'mta_tax': 'float64',\n",
    "        'tip_amount': 'float64',\n",
    "        'tolls_amount': 'float64',\n",
    "        'ehail_fee': 'float64',\n",
    "        'improvement_surcharge': 'float64',\n",
    "        'total_amount': 'float64',\n",
    "        'payment_type': 'float64',\n",
    "        'trip_type': 'float64',\n",
    "        'congestion_surcharge': 'float64'\n",
    "    }\n",
    "\n",
    "    parse_dates = ['tpep_pickup_datetime', 'tpep_dropoff_datetime']\n",
    "    \n",
    "    df = pd.read_csv(url, sep=',', compression='gzip', dtype=taxi_dtypes, parse_dates=parse_dates)\n",
    "    \n",
    "    df['tpep_pickup_datetime'] = pd.to_datetime(df['tpep_pickup_datetime'])\n",
    "    df['tpep_dropoff_datetime'] = pd.to_datetime(df['tpep_dropoff_datetime'])\n",
    "    \n",
    "    table = pa.Table.from_pandas(df)\n",
    "    gcs_filesystem = pafs.GcsFileSystem()\n",
    "    gcs_path = f\"{bucket_name}/{destination_blob_name}\"\n",
    "    \n",
    "    with gcs_filesystem.open_output_stream(gcs_path) as out_stream:\n",
    "        pq.write_table(table, out_stream)\n",
    "    \n",
    "    print(f\"Uploaded {url} as {destination_blob_name} to {bucket_name}\")"
   ]
  },
  {
   "cell_type": "code",
   "execution_count": 11,
   "id": "51022b77-f16a-4b02-8a93-f22a39ce8a67",
   "metadata": {
    "tags": []
   },
   "outputs": [
    {
     "name": "stdout",
     "output_type": "stream",
     "text": [
      "Uploaded https://github.com/DataTalksClub/nyc-tlc-data/releases/download/yellow/yellow_tripdata_2019-01.csv.gz as yellow_tripdata/2019/yellow_tripdata_2019-01.parquet to de-zoomcamp-hw-3\n",
      "Uploaded https://github.com/DataTalksClub/nyc-tlc-data/releases/download/yellow/yellow_tripdata_2019-02.csv.gz as yellow_tripdata/2019/yellow_tripdata_2019-02.parquet to de-zoomcamp-hw-3\n",
      "Uploaded https://github.com/DataTalksClub/nyc-tlc-data/releases/download/yellow/yellow_tripdata_2019-03.csv.gz as yellow_tripdata/2019/yellow_tripdata_2019-03.parquet to de-zoomcamp-hw-3\n",
      "Uploaded https://github.com/DataTalksClub/nyc-tlc-data/releases/download/yellow/yellow_tripdata_2019-04.csv.gz as yellow_tripdata/2019/yellow_tripdata_2019-04.parquet to de-zoomcamp-hw-3\n",
      "Uploaded https://github.com/DataTalksClub/nyc-tlc-data/releases/download/yellow/yellow_tripdata_2019-05.csv.gz as yellow_tripdata/2019/yellow_tripdata_2019-05.parquet to de-zoomcamp-hw-3\n",
      "Uploaded https://github.com/DataTalksClub/nyc-tlc-data/releases/download/yellow/yellow_tripdata_2019-06.csv.gz as yellow_tripdata/2019/yellow_tripdata_2019-06.parquet to de-zoomcamp-hw-3\n",
      "Uploaded https://github.com/DataTalksClub/nyc-tlc-data/releases/download/yellow/yellow_tripdata_2019-07.csv.gz as yellow_tripdata/2019/yellow_tripdata_2019-07.parquet to de-zoomcamp-hw-3\n"
     ]
    },
    {
     "ename": "KeyboardInterrupt",
     "evalue": "",
     "output_type": "error",
     "traceback": [
      "\u001b[1;31m---------------------------------------------------------------------------\u001b[0m",
      "\u001b[1;31mKeyboardInterrupt\u001b[0m                         Traceback (most recent call last)",
      "Cell \u001b[1;32mIn[11], line 12\u001b[0m\n\u001b[0;32m     10\u001b[0m url \u001b[38;5;241m=\u001b[39m \u001b[38;5;124mf\u001b[39m\u001b[38;5;124m'\u001b[39m\u001b[38;5;124mhttps://github.com/DataTalksClub/nyc-tlc-data/releases/download/yellow/yellow_tripdata_\u001b[39m\u001b[38;5;132;01m{\u001b[39;00myear\u001b[38;5;132;01m}\u001b[39;00m\u001b[38;5;124m-\u001b[39m\u001b[38;5;132;01m{\u001b[39;00mmonth_str\u001b[38;5;132;01m}\u001b[39;00m\u001b[38;5;124m.csv.gz\u001b[39m\u001b[38;5;124m'\u001b[39m\n\u001b[0;32m     11\u001b[0m name \u001b[38;5;241m=\u001b[39m \u001b[38;5;124mf\u001b[39m\u001b[38;5;124m'\u001b[39m\u001b[38;5;124myellow_tripdata/\u001b[39m\u001b[38;5;132;01m{\u001b[39;00myear\u001b[38;5;132;01m}\u001b[39;00m\u001b[38;5;124m/yellow_tripdata_\u001b[39m\u001b[38;5;132;01m{\u001b[39;00myear\u001b[38;5;132;01m}\u001b[39;00m\u001b[38;5;124m-\u001b[39m\u001b[38;5;132;01m{\u001b[39;00mmonth_str\u001b[38;5;132;01m}\u001b[39;00m\u001b[38;5;124m.parquet\u001b[39m\u001b[38;5;124m'\u001b[39m\n\u001b[1;32m---> 12\u001b[0m csv_url_to_parquet_gcs(url, name)\n",
      "Cell \u001b[1;32mIn[8], line 37\u001b[0m, in \u001b[0;36mcsv_url_to_parquet_gcs\u001b[1;34m(url, destination_blob_name)\u001b[0m\n\u001b[0;32m     34\u001b[0m gcs_path \u001b[38;5;241m=\u001b[39m \u001b[38;5;124mf\u001b[39m\u001b[38;5;124m\"\u001b[39m\u001b[38;5;132;01m{\u001b[39;00mbucket_name\u001b[38;5;132;01m}\u001b[39;00m\u001b[38;5;124m/\u001b[39m\u001b[38;5;132;01m{\u001b[39;00mdestination_blob_name\u001b[38;5;132;01m}\u001b[39;00m\u001b[38;5;124m\"\u001b[39m\n\u001b[0;32m     36\u001b[0m \u001b[38;5;28;01mwith\u001b[39;00m gcs_filesystem\u001b[38;5;241m.\u001b[39mopen_output_stream(gcs_path) \u001b[38;5;28;01mas\u001b[39;00m out_stream:\n\u001b[1;32m---> 37\u001b[0m     pq\u001b[38;5;241m.\u001b[39mwrite_table(table, out_stream)\n\u001b[0;32m     39\u001b[0m \u001b[38;5;28mprint\u001b[39m(\u001b[38;5;124mf\u001b[39m\u001b[38;5;124m\"\u001b[39m\u001b[38;5;124mUploaded \u001b[39m\u001b[38;5;132;01m{\u001b[39;00murl\u001b[38;5;132;01m}\u001b[39;00m\u001b[38;5;124m as \u001b[39m\u001b[38;5;132;01m{\u001b[39;00mdestination_blob_name\u001b[38;5;132;01m}\u001b[39;00m\u001b[38;5;124m to \u001b[39m\u001b[38;5;132;01m{\u001b[39;00mbucket_name\u001b[38;5;132;01m}\u001b[39;00m\u001b[38;5;124m\"\u001b[39m)\n",
      "File \u001b[1;32m~\\anaconda3\\Lib\\site-packages\\pyarrow\\parquet\\core.py:1908\u001b[0m, in \u001b[0;36mwrite_table\u001b[1;34m(table, where, row_group_size, version, use_dictionary, compression, write_statistics, use_deprecated_int96_timestamps, coerce_timestamps, allow_truncated_timestamps, data_page_size, flavor, filesystem, compression_level, use_byte_stream_split, column_encoding, data_page_version, use_compliant_nested_type, encryption_properties, write_batch_size, dictionary_pagesize_limit, store_schema, write_page_index, write_page_checksum, sorting_columns, **kwargs)\u001b[0m\n\u001b[0;32m   1882\u001b[0m \u001b[38;5;28;01mtry\u001b[39;00m:\n\u001b[0;32m   1883\u001b[0m     \u001b[38;5;28;01mwith\u001b[39;00m ParquetWriter(\n\u001b[0;32m   1884\u001b[0m             where, table\u001b[38;5;241m.\u001b[39mschema,\n\u001b[0;32m   1885\u001b[0m             filesystem\u001b[38;5;241m=\u001b[39mfilesystem,\n\u001b[1;32m   (...)\u001b[0m\n\u001b[0;32m   1906\u001b[0m             sorting_columns\u001b[38;5;241m=\u001b[39msorting_columns,\n\u001b[0;32m   1907\u001b[0m             \u001b[38;5;241m*\u001b[39m\u001b[38;5;241m*\u001b[39mkwargs) \u001b[38;5;28;01mas\u001b[39;00m writer:\n\u001b[1;32m-> 1908\u001b[0m         writer\u001b[38;5;241m.\u001b[39mwrite_table(table, row_group_size\u001b[38;5;241m=\u001b[39mrow_group_size)\n\u001b[0;32m   1909\u001b[0m \u001b[38;5;28;01mexcept\u001b[39;00m \u001b[38;5;167;01mException\u001b[39;00m:\n\u001b[0;32m   1910\u001b[0m     \u001b[38;5;28;01mif\u001b[39;00m _is_path_like(where):\n",
      "File \u001b[1;32m~\\anaconda3\\Lib\\site-packages\\pyarrow\\parquet\\core.py:1104\u001b[0m, in \u001b[0;36mParquetWriter.write_table\u001b[1;34m(self, table, row_group_size)\u001b[0m\n\u001b[0;32m   1099\u001b[0m     msg \u001b[38;5;241m=\u001b[39m (\u001b[38;5;124m'\u001b[39m\u001b[38;5;124mTable schema does not match schema used to create file: \u001b[39m\u001b[38;5;124m'\u001b[39m\n\u001b[0;32m   1100\u001b[0m            \u001b[38;5;124m'\u001b[39m\u001b[38;5;130;01m\\n\u001b[39;00m\u001b[38;5;124mtable:\u001b[39m\u001b[38;5;130;01m\\n\u001b[39;00m\u001b[38;5;132;01m{!s}\u001b[39;00m\u001b[38;5;124m vs. \u001b[39m\u001b[38;5;130;01m\\n\u001b[39;00m\u001b[38;5;124mfile:\u001b[39m\u001b[38;5;130;01m\\n\u001b[39;00m\u001b[38;5;132;01m{!s}\u001b[39;00m\u001b[38;5;124m'\u001b[39m\n\u001b[0;32m   1101\u001b[0m            \u001b[38;5;241m.\u001b[39mformat(table\u001b[38;5;241m.\u001b[39mschema, \u001b[38;5;28mself\u001b[39m\u001b[38;5;241m.\u001b[39mschema))\n\u001b[0;32m   1102\u001b[0m     \u001b[38;5;28;01mraise\u001b[39;00m \u001b[38;5;167;01mValueError\u001b[39;00m(msg)\n\u001b[1;32m-> 1104\u001b[0m \u001b[38;5;28mself\u001b[39m\u001b[38;5;241m.\u001b[39mwriter\u001b[38;5;241m.\u001b[39mwrite_table(table, row_group_size\u001b[38;5;241m=\u001b[39mrow_group_size)\n",
      "\u001b[1;31mKeyboardInterrupt\u001b[0m: "
     ]
    }
   ],
   "source": [
    "years_to_download = [2019, 2020]\n",
    "months_to_download = range(1, 13)\n",
    "\n",
    "for year in years_to_download:\n",
    "    for month in months_to_download:\n",
    "        month_str = str(month)\n",
    "        if len(month_str) == 1:\n",
    "            month_str = '0' + month_str\n",
    "        \n",
    "        url = f'https://github.com/DataTalksClub/nyc-tlc-data/releases/download/yellow/yellow_tripdata_{year}-{month_str}.csv.gz'\n",
    "        name = f'yellow_tripdata/{year}/yellow_tripdata_{year}-{month_str}.parquet'\n",
    "        csv_url_to_parquet_gcs(url, name)"
   ]
  },
  {
   "cell_type": "code",
   "execution_count": null,
   "id": "9746f7ad-0b3e-4bc1-8f95-d32fc64ff33e",
   "metadata": {},
   "outputs": [],
   "source": []
  }
 ],
 "metadata": {
  "kernelspec": {
   "display_name": "Python 3 (ipykernel)",
   "language": "python",
   "name": "python3"
  },
  "language_info": {
   "codemirror_mode": {
    "name": "ipython",
    "version": 3
   },
   "file_extension": ".py",
   "mimetype": "text/x-python",
   "name": "python",
   "nbconvert_exporter": "python",
   "pygments_lexer": "ipython3",
   "version": "3.11.5"
  }
 },
 "nbformat": 4,
 "nbformat_minor": 5
}
